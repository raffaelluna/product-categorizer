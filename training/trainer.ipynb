{
 "cells": [
  {
   "cell_type": "markdown",
   "id": "undefined-leisure",
   "metadata": {},
   "source": [
    "# 1. Introdução"
   ]
  },
  {
   "cell_type": "markdown",
   "id": "australian-expression",
   "metadata": {},
   "source": [
    "# 2. Os Dados"
   ]
  },
  {
   "cell_type": "markdown",
   "id": "arranged-jesus",
   "metadata": {},
   "source": [
    "## Extração dos Dados e Análise Exploratória\n",
    "\n",
    "Loads a dataset with product data from a specified path available in the environment variable DATASET_PATH"
   ]
  },
  {
   "cell_type": "code",
   "execution_count": 34,
   "id": "heard-setting",
   "metadata": {
    "ExecuteTime": {
     "end_time": "2021-02-16T21:52:54.752823Z",
     "start_time": "2021-02-16T21:52:54.745865Z"
    }
   },
   "outputs": [
    {
     "name": "stderr",
     "output_type": "stream",
     "text": [
      "[nltk_data] Downloading package rslp to /home/raffael/nltk_data...\n",
      "[nltk_data]   Package rslp is already up-to-date!\n"
     ]
    }
   ],
   "source": [
    "import os\n",
    "import re\n",
    "import time\n",
    "import pickle\n",
    "import unicodedata\n",
    "import numpy as np\n",
    "import pandas as pd\n",
    "import seaborn as sns\n",
    "import matplotlib.pyplot as plt\n",
    "\n",
    "from stop_words import get_stop_words\n",
    "\n",
    "from sklearn.preprocessing import LabelEncoder\n",
    "from sklearn.feature_extraction.text import TfidfTransformer\n",
    "from sklearn.feature_extraction.text import CountVectorizer\n",
    "\n",
    "from config.config import *\n",
    "from processing.data_management import *\n",
    "\n",
    "import nltk\n",
    "nltk.download('rslp')\n",
    "\n",
    "import dotenv\n",
    "dotenv.load_dotenv()\n",
    "\n",
    "import warnings\n",
    "warnings.filterwarnings('ignore')"
   ]
  },
  {
   "cell_type": "code",
   "execution_count": 2,
   "id": "existing-consideration",
   "metadata": {
    "ExecuteTime": {
     "end_time": "2021-02-16T20:58:45.955639Z",
     "start_time": "2021-02-16T20:58:45.951032Z"
    }
   },
   "outputs": [],
   "source": [
    "TRAINING_DIR = os.path.dirname(os.path.abspath(\"__file__\"))\n",
    "BASE_DIR = os.path.dirname(TRAINING_DIR)\n",
    "DATASET_PATH = os.path.join(BASE_DIR, os.getenv(\"DATASET_PATH\"))"
   ]
  },
  {
   "cell_type": "code",
   "execution_count": 3,
   "id": "integral-console",
   "metadata": {
    "ExecuteTime": {
     "end_time": "2021-02-16T20:58:46.536135Z",
     "start_time": "2021-02-16T20:58:45.958280Z"
    }
   },
   "outputs": [
    {
     "data": {
      "text/html": [
       "<div>\n",
       "<style scoped>\n",
       "    .dataframe tbody tr th:only-of-type {\n",
       "        vertical-align: middle;\n",
       "    }\n",
       "\n",
       "    .dataframe tbody tr th {\n",
       "        vertical-align: top;\n",
       "    }\n",
       "\n",
       "    .dataframe thead th {\n",
       "        text-align: right;\n",
       "    }\n",
       "</style>\n",
       "<table border=\"1\" class=\"dataframe\">\n",
       "  <thead>\n",
       "    <tr style=\"text-align: right;\">\n",
       "      <th></th>\n",
       "      <th>product_id</th>\n",
       "      <th>seller_id</th>\n",
       "      <th>query</th>\n",
       "      <th>search_page</th>\n",
       "      <th>position</th>\n",
       "      <th>title</th>\n",
       "      <th>concatenated_tags</th>\n",
       "      <th>creation_date</th>\n",
       "      <th>price</th>\n",
       "      <th>weight</th>\n",
       "      <th>express_delivery</th>\n",
       "      <th>minimum_quantity</th>\n",
       "      <th>view_counts</th>\n",
       "      <th>order_counts</th>\n",
       "      <th>category</th>\n",
       "    </tr>\n",
       "  </thead>\n",
       "  <tbody>\n",
       "    <tr>\n",
       "      <th>0</th>\n",
       "      <td>11394449</td>\n",
       "      <td>8324141</td>\n",
       "      <td>espirito santo</td>\n",
       "      <td>2</td>\n",
       "      <td>6</td>\n",
       "      <td>Mandala Espírito Santo</td>\n",
       "      <td>mandala mdf</td>\n",
       "      <td>2015-11-14 19:42:12</td>\n",
       "      <td>171.890000</td>\n",
       "      <td>1200.0</td>\n",
       "      <td>1</td>\n",
       "      <td>4</td>\n",
       "      <td>244</td>\n",
       "      <td>NaN</td>\n",
       "      <td>Decoração</td>\n",
       "    </tr>\n",
       "    <tr>\n",
       "      <th>1</th>\n",
       "      <td>15534262</td>\n",
       "      <td>6939286</td>\n",
       "      <td>cartao de visita</td>\n",
       "      <td>2</td>\n",
       "      <td>0</td>\n",
       "      <td>Cartão de Visita</td>\n",
       "      <td>cartao visita panfletos tag adesivos copos lon...</td>\n",
       "      <td>2018-04-04 20:55:07</td>\n",
       "      <td>77.670000</td>\n",
       "      <td>8.0</td>\n",
       "      <td>1</td>\n",
       "      <td>5</td>\n",
       "      <td>124</td>\n",
       "      <td>NaN</td>\n",
       "      <td>Papel e Cia</td>\n",
       "    </tr>\n",
       "    <tr>\n",
       "      <th>2</th>\n",
       "      <td>16153119</td>\n",
       "      <td>9835835</td>\n",
       "      <td>expositor de esmaltes</td>\n",
       "      <td>1</td>\n",
       "      <td>38</td>\n",
       "      <td>Organizador expositor p/ 70 esmaltes</td>\n",
       "      <td>expositor</td>\n",
       "      <td>2018-10-13 20:57:07</td>\n",
       "      <td>73.920006</td>\n",
       "      <td>2709.0</td>\n",
       "      <td>1</td>\n",
       "      <td>1</td>\n",
       "      <td>59</td>\n",
       "      <td>NaN</td>\n",
       "      <td>Outros</td>\n",
       "    </tr>\n",
       "    <tr>\n",
       "      <th>3</th>\n",
       "      <td>15877252</td>\n",
       "      <td>8071206</td>\n",
       "      <td>medidas lencol para berco americano</td>\n",
       "      <td>1</td>\n",
       "      <td>6</td>\n",
       "      <td>Jogo de Lençol Berço Estampado</td>\n",
       "      <td>t jogo lencol menino lencol berco</td>\n",
       "      <td>2017-02-27 13:26:03</td>\n",
       "      <td>118.770004</td>\n",
       "      <td>0.0</td>\n",
       "      <td>1</td>\n",
       "      <td>1</td>\n",
       "      <td>180</td>\n",
       "      <td>1.0</td>\n",
       "      <td>Bebê</td>\n",
       "    </tr>\n",
       "    <tr>\n",
       "      <th>4</th>\n",
       "      <td>15917108</td>\n",
       "      <td>7200773</td>\n",
       "      <td>adesivo box banheiro</td>\n",
       "      <td>3</td>\n",
       "      <td>38</td>\n",
       "      <td>ADESIVO BOX DE BANHEIRO</td>\n",
       "      <td>adesivo box banheiro</td>\n",
       "      <td>2017-05-09 13:18:38</td>\n",
       "      <td>191.810000</td>\n",
       "      <td>507.0</td>\n",
       "      <td>1</td>\n",
       "      <td>6</td>\n",
       "      <td>34</td>\n",
       "      <td>NaN</td>\n",
       "      <td>Decoração</td>\n",
       "    </tr>\n",
       "  </tbody>\n",
       "</table>\n",
       "</div>"
      ],
      "text/plain": [
       "   product_id  seller_id                                query  search_page  \\\n",
       "0    11394449    8324141                       espirito santo            2   \n",
       "1    15534262    6939286                     cartao de visita            2   \n",
       "2    16153119    9835835                expositor de esmaltes            1   \n",
       "3    15877252    8071206  medidas lencol para berco americano            1   \n",
       "4    15917108    7200773                 adesivo box banheiro            3   \n",
       "\n",
       "   position                                 title  \\\n",
       "0         6                Mandala Espírito Santo   \n",
       "1         0                      Cartão de Visita   \n",
       "2        38  Organizador expositor p/ 70 esmaltes   \n",
       "3         6        Jogo de Lençol Berço Estampado   \n",
       "4        38               ADESIVO BOX DE BANHEIRO   \n",
       "\n",
       "                                   concatenated_tags        creation_date  \\\n",
       "0                                        mandala mdf  2015-11-14 19:42:12   \n",
       "1  cartao visita panfletos tag adesivos copos lon...  2018-04-04 20:55:07   \n",
       "2                                          expositor  2018-10-13 20:57:07   \n",
       "3                  t jogo lencol menino lencol berco  2017-02-27 13:26:03   \n",
       "4                               adesivo box banheiro  2017-05-09 13:18:38   \n",
       "\n",
       "        price  weight  express_delivery  minimum_quantity  view_counts  \\\n",
       "0  171.890000  1200.0                 1                 4          244   \n",
       "1   77.670000     8.0                 1                 5          124   \n",
       "2   73.920006  2709.0                 1                 1           59   \n",
       "3  118.770004     0.0                 1                 1          180   \n",
       "4  191.810000   507.0                 1                 6           34   \n",
       "\n",
       "   order_counts     category  \n",
       "0           NaN    Decoração  \n",
       "1           NaN  Papel e Cia  \n",
       "2           NaN       Outros  \n",
       "3           1.0         Bebê  \n",
       "4           NaN    Decoração  "
      ]
     },
     "execution_count": 3,
     "metadata": {},
     "output_type": "execute_result"
    }
   ],
   "source": [
    "df = load_data(os.path.join(BASE_DIR,DATASET_PATH))\n",
    "df.head()"
   ]
  },
  {
   "cell_type": "code",
   "execution_count": 4,
   "id": "manufactured-twist",
   "metadata": {
    "ExecuteTime": {
     "end_time": "2021-02-16T20:58:46.564604Z",
     "start_time": "2021-02-16T20:58:46.537900Z"
    }
   },
   "outputs": [],
   "source": [
    "df['creation_date'] = pd.to_datetime(df['creation_date'], format=\"%Y-%m-%d %H:%M:%S\")"
   ]
  },
  {
   "cell_type": "code",
   "execution_count": 35,
   "id": "electrical-inflation",
   "metadata": {
    "ExecuteTime": {
     "end_time": "2021-02-16T21:59:34.145725Z",
     "start_time": "2021-02-16T21:59:34.143238Z"
    }
   },
   "outputs": [],
   "source": [
    "#TODO\n",
    "#IMPROVE EDA"
   ]
  },
  {
   "cell_type": "code",
   "execution_count": 5,
   "id": "cubic-boring",
   "metadata": {
    "ExecuteTime": {
     "end_time": "2021-02-16T20:58:46.710716Z",
     "start_time": "2021-02-16T20:58:46.566382Z"
    }
   },
   "outputs": [
    {
     "data": {
      "text/plain": [
       "array(['Decoração', 'Papel e Cia', 'Outros', 'Bebê', 'Lembrancinhas',\n",
       "       'Bijuterias e Jóias'], dtype=object)"
      ]
     },
     "execution_count": 5,
     "metadata": {},
     "output_type": "execute_result"
    }
   ],
   "source": [
    "df.category.unique()"
   ]
  },
  {
   "cell_type": "code",
   "execution_count": 6,
   "id": "everyday-caribbean",
   "metadata": {
    "ExecuteTime": {
     "end_time": "2021-02-16T20:58:46.954074Z",
     "start_time": "2021-02-16T20:58:46.712407Z"
    }
   },
   "outputs": [
    {
     "data": {
      "text/plain": [
       "concatenated_tags    0.000053\n",
       "weight               0.001526\n",
       "order_counts         0.529079\n",
       "dtype: float64"
      ]
     },
     "execution_count": 6,
     "metadata": {},
     "output_type": "execute_result"
    }
   ],
   "source": [
    "missing = df.isnull().mean()\n",
    "missing = missing[missing > 0]\n",
    "missing "
   ]
  },
  {
   "cell_type": "code",
   "execution_count": 7,
   "id": "recorded-gallery",
   "metadata": {
    "ExecuteTime": {
     "end_time": "2021-02-16T20:58:47.138498Z",
     "start_time": "2021-02-16T20:58:46.960214Z"
    }
   },
   "outputs": [
    {
     "data": {
      "text/html": [
       "<div>\n",
       "<style scoped>\n",
       "    .dataframe tbody tr th:only-of-type {\n",
       "        vertical-align: middle;\n",
       "    }\n",
       "\n",
       "    .dataframe tbody tr th {\n",
       "        vertical-align: top;\n",
       "    }\n",
       "\n",
       "    .dataframe thead th {\n",
       "        text-align: right;\n",
       "    }\n",
       "</style>\n",
       "<table border=\"1\" class=\"dataframe\">\n",
       "  <thead>\n",
       "    <tr style=\"text-align: right;\">\n",
       "      <th></th>\n",
       "      <th>product_id</th>\n",
       "      <th>seller_id</th>\n",
       "      <th>query</th>\n",
       "      <th>search_page</th>\n",
       "      <th>position</th>\n",
       "      <th>title</th>\n",
       "      <th>concatenated_tags</th>\n",
       "      <th>creation_date</th>\n",
       "      <th>price</th>\n",
       "      <th>weight</th>\n",
       "      <th>...</th>\n",
       "      <th>minimum_quantity</th>\n",
       "      <th>view_counts</th>\n",
       "      <th>order_counts</th>\n",
       "      <th>category</th>\n",
       "      <th>Bebê</th>\n",
       "      <th>Bijuterias e Jóias</th>\n",
       "      <th>Decoração</th>\n",
       "      <th>Lembrancinhas</th>\n",
       "      <th>Outros</th>\n",
       "      <th>Papel e Cia</th>\n",
       "    </tr>\n",
       "  </thead>\n",
       "  <tbody>\n",
       "    <tr>\n",
       "      <th>0</th>\n",
       "      <td>11394449</td>\n",
       "      <td>8324141</td>\n",
       "      <td>espirito santo</td>\n",
       "      <td>2</td>\n",
       "      <td>6</td>\n",
       "      <td>Mandala Espírito Santo</td>\n",
       "      <td>mandala mdf</td>\n",
       "      <td>2015-11-14 19:42:12</td>\n",
       "      <td>171.890000</td>\n",
       "      <td>1200.0</td>\n",
       "      <td>...</td>\n",
       "      <td>4</td>\n",
       "      <td>244</td>\n",
       "      <td>NaN</td>\n",
       "      <td>Decoração</td>\n",
       "      <td>0</td>\n",
       "      <td>0</td>\n",
       "      <td>1</td>\n",
       "      <td>0</td>\n",
       "      <td>0</td>\n",
       "      <td>0</td>\n",
       "    </tr>\n",
       "    <tr>\n",
       "      <th>1</th>\n",
       "      <td>15534262</td>\n",
       "      <td>6939286</td>\n",
       "      <td>cartao de visita</td>\n",
       "      <td>2</td>\n",
       "      <td>0</td>\n",
       "      <td>Cartão de Visita</td>\n",
       "      <td>cartao visita panfletos tag adesivos copos lon...</td>\n",
       "      <td>2018-04-04 20:55:07</td>\n",
       "      <td>77.670000</td>\n",
       "      <td>8.0</td>\n",
       "      <td>...</td>\n",
       "      <td>5</td>\n",
       "      <td>124</td>\n",
       "      <td>NaN</td>\n",
       "      <td>Papel e Cia</td>\n",
       "      <td>0</td>\n",
       "      <td>0</td>\n",
       "      <td>0</td>\n",
       "      <td>0</td>\n",
       "      <td>0</td>\n",
       "      <td>1</td>\n",
       "    </tr>\n",
       "    <tr>\n",
       "      <th>2</th>\n",
       "      <td>16153119</td>\n",
       "      <td>9835835</td>\n",
       "      <td>expositor de esmaltes</td>\n",
       "      <td>1</td>\n",
       "      <td>38</td>\n",
       "      <td>Organizador expositor p/ 70 esmaltes</td>\n",
       "      <td>expositor</td>\n",
       "      <td>2018-10-13 20:57:07</td>\n",
       "      <td>73.920006</td>\n",
       "      <td>2709.0</td>\n",
       "      <td>...</td>\n",
       "      <td>1</td>\n",
       "      <td>59</td>\n",
       "      <td>NaN</td>\n",
       "      <td>Outros</td>\n",
       "      <td>0</td>\n",
       "      <td>0</td>\n",
       "      <td>0</td>\n",
       "      <td>0</td>\n",
       "      <td>1</td>\n",
       "      <td>0</td>\n",
       "    </tr>\n",
       "    <tr>\n",
       "      <th>3</th>\n",
       "      <td>15877252</td>\n",
       "      <td>8071206</td>\n",
       "      <td>medidas lencol para berco americano</td>\n",
       "      <td>1</td>\n",
       "      <td>6</td>\n",
       "      <td>Jogo de Lençol Berço Estampado</td>\n",
       "      <td>t jogo lencol menino lencol berco</td>\n",
       "      <td>2017-02-27 13:26:03</td>\n",
       "      <td>118.770004</td>\n",
       "      <td>0.0</td>\n",
       "      <td>...</td>\n",
       "      <td>1</td>\n",
       "      <td>180</td>\n",
       "      <td>1.0</td>\n",
       "      <td>Bebê</td>\n",
       "      <td>1</td>\n",
       "      <td>0</td>\n",
       "      <td>0</td>\n",
       "      <td>0</td>\n",
       "      <td>0</td>\n",
       "      <td>0</td>\n",
       "    </tr>\n",
       "    <tr>\n",
       "      <th>4</th>\n",
       "      <td>15917108</td>\n",
       "      <td>7200773</td>\n",
       "      <td>adesivo box banheiro</td>\n",
       "      <td>3</td>\n",
       "      <td>38</td>\n",
       "      <td>ADESIVO BOX DE BANHEIRO</td>\n",
       "      <td>adesivo box banheiro</td>\n",
       "      <td>2017-05-09 13:18:38</td>\n",
       "      <td>191.810000</td>\n",
       "      <td>507.0</td>\n",
       "      <td>...</td>\n",
       "      <td>6</td>\n",
       "      <td>34</td>\n",
       "      <td>NaN</td>\n",
       "      <td>Decoração</td>\n",
       "      <td>0</td>\n",
       "      <td>0</td>\n",
       "      <td>1</td>\n",
       "      <td>0</td>\n",
       "      <td>0</td>\n",
       "      <td>0</td>\n",
       "    </tr>\n",
       "  </tbody>\n",
       "</table>\n",
       "<p>5 rows × 21 columns</p>\n",
       "</div>"
      ],
      "text/plain": [
       "   product_id  seller_id                                query  search_page  \\\n",
       "0    11394449    8324141                       espirito santo            2   \n",
       "1    15534262    6939286                     cartao de visita            2   \n",
       "2    16153119    9835835                expositor de esmaltes            1   \n",
       "3    15877252    8071206  medidas lencol para berco americano            1   \n",
       "4    15917108    7200773                 adesivo box banheiro            3   \n",
       "\n",
       "   position                                 title  \\\n",
       "0         6                Mandala Espírito Santo   \n",
       "1         0                      Cartão de Visita   \n",
       "2        38  Organizador expositor p/ 70 esmaltes   \n",
       "3         6        Jogo de Lençol Berço Estampado   \n",
       "4        38               ADESIVO BOX DE BANHEIRO   \n",
       "\n",
       "                                   concatenated_tags       creation_date  \\\n",
       "0                                        mandala mdf 2015-11-14 19:42:12   \n",
       "1  cartao visita panfletos tag adesivos copos lon... 2018-04-04 20:55:07   \n",
       "2                                          expositor 2018-10-13 20:57:07   \n",
       "3                  t jogo lencol menino lencol berco 2017-02-27 13:26:03   \n",
       "4                               adesivo box banheiro 2017-05-09 13:18:38   \n",
       "\n",
       "        price  weight  ...  minimum_quantity  view_counts  order_counts  \\\n",
       "0  171.890000  1200.0  ...                 4          244           NaN   \n",
       "1   77.670000     8.0  ...                 5          124           NaN   \n",
       "2   73.920006  2709.0  ...                 1           59           NaN   \n",
       "3  118.770004     0.0  ...                 1          180           1.0   \n",
       "4  191.810000   507.0  ...                 6           34           NaN   \n",
       "\n",
       "      category Bebê  Bijuterias e Jóias  Decoração  Lembrancinhas  Outros  \\\n",
       "0    Decoração    0                   0          1              0       0   \n",
       "1  Papel e Cia    0                   0          0              0       0   \n",
       "2       Outros    0                   0          0              0       1   \n",
       "3         Bebê    1                   0          0              0       0   \n",
       "4    Decoração    0                   0          1              0       0   \n",
       "\n",
       "   Papel e Cia  \n",
       "0            0  \n",
       "1            1  \n",
       "2            0  \n",
       "3            0  \n",
       "4            0  \n",
       "\n",
       "[5 rows x 21 columns]"
      ]
     },
     "execution_count": 7,
     "metadata": {},
     "output_type": "execute_result"
    }
   ],
   "source": [
    "df_dummy = pd.concat([df,pd.get_dummies(df['category'])],axis=1)\n",
    "df_dummy.head()"
   ]
  },
  {
   "cell_type": "code",
   "execution_count": 8,
   "id": "latter-commander",
   "metadata": {
    "ExecuteTime": {
     "end_time": "2021-02-16T20:58:48.629617Z",
     "start_time": "2021-02-16T20:58:47.140651Z"
    }
   },
   "outputs": [
    {
     "data": {
      "image/png": "[encoded data removed]",
      "text/plain": [
       "<Figure size 1008x720 with 2 Axes>"
      ]
     },
     "metadata": {
      "needs_background": "light"
     },
     "output_type": "display_data"
    }
   ],
   "source": [
    "fig, ax = plt.subplots(figsize=(14,10))\n",
    "sns.heatmap(df_dummy.corr(), annot=True, ax=ax);"
   ]
  },
  {
   "cell_type": "markdown",
   "id": "great-quarterly",
   "metadata": {},
   "source": [
    "# 3. Pipeline de Treinamento"
   ]
  },
  {
   "cell_type": "markdown",
   "id": "meaningful-program",
   "metadata": {},
   "source": [
    "* Remover colunas que não importam para o modelo\n",
    "* Tratar dados faltantes\n",
    "* Remover caracteres acentuados\n",
    "* Remover caracteres especiais\n",
    "* Descaptalizar palavras\n",
    "* Remover stop words\n",
    "* Lemmatizar\n",
    "* Tokenizar\n",
    "* Featurização do corpus"
   ]
  },
  {
   "cell_type": "markdown",
   "id": "gentle-devon",
   "metadata": {
    "ExecuteTime": {
     "end_time": "2021-02-15T18:25:55.879522Z",
     "start_time": "2021-02-15T18:25:55.873920Z"
    }
   },
   "source": [
    "## 3.1 Pipeline de Pré-processamento\n",
    "\n",
    "Processes the dataset to use it for training and validation"
   ]
  },
  {
   "cell_type": "markdown",
   "id": "matched-tuition",
   "metadata": {},
   "source": [
    "### 3.1.1 Pré-processamento das variáveis não-textuais"
   ]
  },
  {
   "cell_type": "code",
   "execution_count": 9,
   "id": "compatible-jurisdiction",
   "metadata": {
    "ExecuteTime": {
     "end_time": "2021-02-16T20:58:48.633200Z",
     "start_time": "2021-02-16T20:58:48.630778Z"
    }
   },
   "outputs": [],
   "source": [
    "def features_remover(df, variables):\n",
    "    X = df.copy()\n",
    "    return X.drop(labels=variables, axis=1)\n",
    "\n",
    "def remove_null_rows(df):\n",
    "    X = df.copy()\n",
    "    return X.dropna(axis=0)"
   ]
  },
  {
   "cell_type": "code",
   "execution_count": 10,
   "id": "lonely-agent",
   "metadata": {
    "ExecuteTime": {
     "end_time": "2021-02-16T20:58:48.860638Z",
     "start_time": "2021-02-16T20:58:48.634555Z"
    }
   },
   "outputs": [
    {
     "data": {
      "text/plain": [
       "(37940, 8)"
      ]
     },
     "execution_count": 10,
     "metadata": {},
     "output_type": "execute_result"
    }
   ],
   "source": [
    "df_train = df.copy()\n",
    "\n",
    "df_train = features_remover(df, FEATURES_TO_DROP)\n",
    "df_train = remove_null_rows(df_train).reset_index(drop=True)\n",
    "df_train.shape"
   ]
  },
  {
   "cell_type": "markdown",
   "id": "peripheral-journalist",
   "metadata": {},
   "source": [
    "### 3.1.2 Pré-processamento das variáveis textuais"
   ]
  },
  {
   "cell_type": "code",
   "execution_count": 11,
   "id": "regulation-circular",
   "metadata": {
    "ExecuteTime": {
     "end_time": "2021-02-16T20:58:49.007201Z",
     "start_time": "2021-02-16T20:58:48.862200Z"
    }
   },
   "outputs": [],
   "source": [
    "def accents_remover(text):\n",
    "    #https://stackoverflow.com/questions/517923/what-is-the-best-way-to-remove-accents-normalize-in-a-python-unicode-string\n",
    "    text = unicodedata.normalize('NFKD', text).encode('ascii', 'ignore').decode('utf-8', 'ignore')\n",
    "    return str(text)\n",
    "\n",
    "def special_char_remover(text):\n",
    "    return re.sub('[^A-Za-z0-9 ]+', '', text)\n",
    "\n",
    "def text_to_lowercase(text):    \n",
    "    return str.lower(text)\n",
    "\n",
    "def stop_words_remover(text, language='portuguese'):\n",
    "    text = ' '.join([word for word in text.split() if word not in (get_stop_words(language))])\n",
    "    return text\n",
    "\n",
    "#portuguese stemmer\n",
    "stemmer = nltk.stem.RSLPStemmer()\n",
    "def text_stemmer(text):\n",
    "    words_list = [stemmer.stem(word) for word in text.split()]\n",
    "    return ' '.join(words_list)\n",
    "\n",
    "def text_normalizer(text, stem=True):\n",
    "    \n",
    "    text = text_to_lowercase(text)\n",
    "    text = accents_remover(text)\n",
    "    text = special_char_remover(text)\n",
    "    text = stop_words_remover(text)\n",
    "    \n",
    "    if stem:\n",
    "        text = text_stemmer(text)\n",
    "        \n",
    "    return text"
   ]
  },
  {
   "cell_type": "code",
   "execution_count": 12,
   "id": "bizarre-witch",
   "metadata": {
    "ExecuteTime": {
     "end_time": "2021-02-16T20:58:50.546016Z",
     "start_time": "2021-02-16T20:58:49.011121Z"
    }
   },
   "outputs": [
    {
     "data": {
      "text/html": [
       "<div>\n",
       "<style scoped>\n",
       "    .dataframe tbody tr th:only-of-type {\n",
       "        vertical-align: middle;\n",
       "    }\n",
       "\n",
       "    .dataframe tbody tr th {\n",
       "        vertical-align: top;\n",
       "    }\n",
       "\n",
       "    .dataframe thead th {\n",
       "        text-align: right;\n",
       "    }\n",
       "</style>\n",
       "<table border=\"1\" class=\"dataframe\">\n",
       "  <thead>\n",
       "    <tr style=\"text-align: right;\">\n",
       "      <th></th>\n",
       "      <th>query</th>\n",
       "      <th>title</th>\n",
       "      <th>concatenated_tags</th>\n",
       "      <th>price</th>\n",
       "      <th>weight</th>\n",
       "      <th>express_delivery</th>\n",
       "      <th>minimum_quantity</th>\n",
       "      <th>category</th>\n",
       "    </tr>\n",
       "  </thead>\n",
       "  <tbody>\n",
       "    <tr>\n",
       "      <th>0</th>\n",
       "      <td>espirito santo</td>\n",
       "      <td>mandala espirito santo</td>\n",
       "      <td>mandala mdf</td>\n",
       "      <td>171.890000</td>\n",
       "      <td>1200.0</td>\n",
       "      <td>1</td>\n",
       "      <td>4</td>\n",
       "      <td>Decoração</td>\n",
       "    </tr>\n",
       "    <tr>\n",
       "      <th>1</th>\n",
       "      <td>cartao visita</td>\n",
       "      <td>cartao visita</td>\n",
       "      <td>cartao visita panfletos tag adesivos copos lon...</td>\n",
       "      <td>77.670000</td>\n",
       "      <td>8.0</td>\n",
       "      <td>1</td>\n",
       "      <td>5</td>\n",
       "      <td>Papel e Cia</td>\n",
       "    </tr>\n",
       "    <tr>\n",
       "      <th>2</th>\n",
       "      <td>expositor esmaltes</td>\n",
       "      <td>organizador expositor p 70 esmaltes</td>\n",
       "      <td>expositor</td>\n",
       "      <td>73.920006</td>\n",
       "      <td>2709.0</td>\n",
       "      <td>1</td>\n",
       "      <td>1</td>\n",
       "      <td>Outros</td>\n",
       "    </tr>\n",
       "    <tr>\n",
       "      <th>3</th>\n",
       "      <td>medidas lencol berco americano</td>\n",
       "      <td>jogo lencol berco estampado</td>\n",
       "      <td>t jogo lencol menino lencol berco</td>\n",
       "      <td>118.770004</td>\n",
       "      <td>0.0</td>\n",
       "      <td>1</td>\n",
       "      <td>1</td>\n",
       "      <td>Bebê</td>\n",
       "    </tr>\n",
       "    <tr>\n",
       "      <th>4</th>\n",
       "      <td>adesivo box banheiro</td>\n",
       "      <td>adesivo box banheiro</td>\n",
       "      <td>adesivo box banheiro</td>\n",
       "      <td>191.810000</td>\n",
       "      <td>507.0</td>\n",
       "      <td>1</td>\n",
       "      <td>6</td>\n",
       "      <td>Decoração</td>\n",
       "    </tr>\n",
       "  </tbody>\n",
       "</table>\n",
       "</div>"
      ],
      "text/plain": [
       "                            query                                title  \\\n",
       "0                  espirito santo               mandala espirito santo   \n",
       "1                   cartao visita                        cartao visita   \n",
       "2              expositor esmaltes  organizador expositor p 70 esmaltes   \n",
       "3  medidas lencol berco americano          jogo lencol berco estampado   \n",
       "4            adesivo box banheiro                 adesivo box banheiro   \n",
       "\n",
       "                                   concatenated_tags       price  weight  \\\n",
       "0                                        mandala mdf  171.890000  1200.0   \n",
       "1  cartao visita panfletos tag adesivos copos lon...   77.670000     8.0   \n",
       "2                                          expositor   73.920006  2709.0   \n",
       "3                  t jogo lencol menino lencol berco  118.770004     0.0   \n",
       "4                               adesivo box banheiro  191.810000   507.0   \n",
       "\n",
       "   express_delivery  minimum_quantity     category  \n",
       "0                 1                 4    Decoração  \n",
       "1                 1                 5  Papel e Cia  \n",
       "2                 1                 1       Outros  \n",
       "3                 1                 1         Bebê  \n",
       "4                 1                 6    Decoração  "
      ]
     },
     "execution_count": 12,
     "metadata": {},
     "output_type": "execute_result"
    }
   ],
   "source": [
    "df_train['query'] = df_train['query'].apply(lambda x: text_normalizer(x, stem=False))\n",
    "df_train['title'] = df_train['title'].apply(lambda x: text_normalizer(x, stem=False))\n",
    "df_train['concatenated_tags'] = df_train['concatenated_tags'].apply(lambda x: text_normalizer(x, stem=False))\n",
    "df_train.head()"
   ]
  },
  {
   "cell_type": "markdown",
   "id": "sweet-escape",
   "metadata": {},
   "source": [
    "### 3.1.3 Feature Engineering\n",
    "\n",
    "* Concatenar query e tags: por que?\n",
    "* Escalar as variáveis 'price', 'weight', 'minimum_quantity'\n",
    "* Featurizar as variáveis textuais: BoW e TF-IDF"
   ]
  },
  {
   "cell_type": "code",
   "execution_count": 13,
   "id": "indoor-reviewer",
   "metadata": {
    "ExecuteTime": {
     "end_time": "2021-02-16T20:58:50.583330Z",
     "start_time": "2021-02-16T20:58:50.547036Z"
    }
   },
   "outputs": [
    {
     "data": {
      "text/html": [
       "<div>\n",
       "<style scoped>\n",
       "    .dataframe tbody tr th:only-of-type {\n",
       "        vertical-align: middle;\n",
       "    }\n",
       "\n",
       "    .dataframe tbody tr th {\n",
       "        vertical-align: top;\n",
       "    }\n",
       "\n",
       "    .dataframe thead th {\n",
       "        text-align: right;\n",
       "    }\n",
       "</style>\n",
       "<table border=\"1\" class=\"dataframe\">\n",
       "  <thead>\n",
       "    <tr style=\"text-align: right;\">\n",
       "      <th></th>\n",
       "      <th>title</th>\n",
       "      <th>price</th>\n",
       "      <th>weight</th>\n",
       "      <th>express_delivery</th>\n",
       "      <th>minimum_quantity</th>\n",
       "      <th>category</th>\n",
       "      <th>query_tags</th>\n",
       "    </tr>\n",
       "  </thead>\n",
       "  <tbody>\n",
       "    <tr>\n",
       "      <th>0</th>\n",
       "      <td>mandala espirito santo</td>\n",
       "      <td>171.890000</td>\n",
       "      <td>1200.0</td>\n",
       "      <td>1</td>\n",
       "      <td>4</td>\n",
       "      <td>Decoração</td>\n",
       "      <td>espirito santo mandala mdf</td>\n",
       "    </tr>\n",
       "    <tr>\n",
       "      <th>1</th>\n",
       "      <td>cartao visita</td>\n",
       "      <td>77.670000</td>\n",
       "      <td>8.0</td>\n",
       "      <td>1</td>\n",
       "      <td>5</td>\n",
       "      <td>Papel e Cia</td>\n",
       "      <td>cartao visita cartao visita panfletos tag ades...</td>\n",
       "    </tr>\n",
       "    <tr>\n",
       "      <th>2</th>\n",
       "      <td>organizador expositor p 70 esmaltes</td>\n",
       "      <td>73.920006</td>\n",
       "      <td>2709.0</td>\n",
       "      <td>1</td>\n",
       "      <td>1</td>\n",
       "      <td>Outros</td>\n",
       "      <td>expositor esmaltes expositor</td>\n",
       "    </tr>\n",
       "    <tr>\n",
       "      <th>3</th>\n",
       "      <td>jogo lencol berco estampado</td>\n",
       "      <td>118.770004</td>\n",
       "      <td>0.0</td>\n",
       "      <td>1</td>\n",
       "      <td>1</td>\n",
       "      <td>Bebê</td>\n",
       "      <td>medidas lencol berco americano t jogo lencol m...</td>\n",
       "    </tr>\n",
       "    <tr>\n",
       "      <th>4</th>\n",
       "      <td>adesivo box banheiro</td>\n",
       "      <td>191.810000</td>\n",
       "      <td>507.0</td>\n",
       "      <td>1</td>\n",
       "      <td>6</td>\n",
       "      <td>Decoração</td>\n",
       "      <td>adesivo box banheiro adesivo box banheiro</td>\n",
       "    </tr>\n",
       "  </tbody>\n",
       "</table>\n",
       "</div>"
      ],
      "text/plain": [
       "                                 title       price  weight  express_delivery  \\\n",
       "0               mandala espirito santo  171.890000  1200.0                 1   \n",
       "1                        cartao visita   77.670000     8.0                 1   \n",
       "2  organizador expositor p 70 esmaltes   73.920006  2709.0                 1   \n",
       "3          jogo lencol berco estampado  118.770004     0.0                 1   \n",
       "4                 adesivo box banheiro  191.810000   507.0                 1   \n",
       "\n",
       "   minimum_quantity     category  \\\n",
       "0                 4    Decoração   \n",
       "1                 5  Papel e Cia   \n",
       "2                 1       Outros   \n",
       "3                 1         Bebê   \n",
       "4                 6    Decoração   \n",
       "\n",
       "                                          query_tags  \n",
       "0                         espirito santo mandala mdf  \n",
       "1  cartao visita cartao visita panfletos tag ades...  \n",
       "2                       expositor esmaltes expositor  \n",
       "3  medidas lencol berco americano t jogo lencol m...  \n",
       "4          adesivo box banheiro adesivo box banheiro  "
      ]
     },
     "execution_count": 13,
     "metadata": {},
     "output_type": "execute_result"
    }
   ],
   "source": [
    "df_train.loc[:,'query_tags'] = df_train['query'] + str(' ') + df_train['concatenated_tags']\n",
    "df_train = df_train.drop(labels=['query', 'concatenated_tags'], axis=1)\n",
    "df_train.head()"
   ]
  },
  {
   "cell_type": "code",
   "execution_count": 14,
   "id": "furnished-update",
   "metadata": {
    "ExecuteTime": {
     "end_time": "2021-02-16T20:58:50.741477Z",
     "start_time": "2021-02-16T20:58:50.584752Z"
    }
   },
   "outputs": [
    {
     "data": {
      "text/html": [
       "<div>\n",
       "<style scoped>\n",
       "    .dataframe tbody tr th:only-of-type {\n",
       "        vertical-align: middle;\n",
       "    }\n",
       "\n",
       "    .dataframe tbody tr th {\n",
       "        vertical-align: top;\n",
       "    }\n",
       "\n",
       "    .dataframe thead th {\n",
       "        text-align: right;\n",
       "    }\n",
       "</style>\n",
       "<table border=\"1\" class=\"dataframe\">\n",
       "  <thead>\n",
       "    <tr style=\"text-align: right;\">\n",
       "      <th></th>\n",
       "      <th>title</th>\n",
       "      <th>query_tags</th>\n",
       "      <th>category</th>\n",
       "    </tr>\n",
       "  </thead>\n",
       "  <tbody>\n",
       "    <tr>\n",
       "      <th>0</th>\n",
       "      <td>mandala espirito santo</td>\n",
       "      <td>espirito santo mandala mdf</td>\n",
       "      <td>Decoração</td>\n",
       "    </tr>\n",
       "    <tr>\n",
       "      <th>1</th>\n",
       "      <td>cartao visita</td>\n",
       "      <td>cartao visita cartao visita panfletos tag ades...</td>\n",
       "      <td>Papel e Cia</td>\n",
       "    </tr>\n",
       "    <tr>\n",
       "      <th>2</th>\n",
       "      <td>organizador expositor p 70 esmaltes</td>\n",
       "      <td>expositor esmaltes expositor</td>\n",
       "      <td>Outros</td>\n",
       "    </tr>\n",
       "    <tr>\n",
       "      <th>3</th>\n",
       "      <td>jogo lencol berco estampado</td>\n",
       "      <td>medidas lencol berco americano t jogo lencol m...</td>\n",
       "      <td>Bebê</td>\n",
       "    </tr>\n",
       "    <tr>\n",
       "      <th>4</th>\n",
       "      <td>adesivo box banheiro</td>\n",
       "      <td>adesivo box banheiro adesivo box banheiro</td>\n",
       "      <td>Decoração</td>\n",
       "    </tr>\n",
       "  </tbody>\n",
       "</table>\n",
       "</div>"
      ],
      "text/plain": [
       "                                 title  \\\n",
       "0               mandala espirito santo   \n",
       "1                        cartao visita   \n",
       "2  organizador expositor p 70 esmaltes   \n",
       "3          jogo lencol berco estampado   \n",
       "4                 adesivo box banheiro   \n",
       "\n",
       "                                          query_tags     category  \n",
       "0                         espirito santo mandala mdf    Decoração  \n",
       "1  cartao visita cartao visita panfletos tag ades...  Papel e Cia  \n",
       "2                       expositor esmaltes expositor       Outros  \n",
       "3  medidas lencol berco americano t jogo lencol m...         Bebê  \n",
       "4          adesivo box banheiro adesivo box banheiro    Decoração  "
      ]
     },
     "execution_count": 14,
     "metadata": {},
     "output_type": "execute_result"
    }
   ],
   "source": [
    "df_train_ = df_train[['title', 'query_tags', 'category']]\n",
    "df_train_.head()"
   ]
  },
  {
   "cell_type": "code",
   "execution_count": 15,
   "id": "narrow-label",
   "metadata": {
    "ExecuteTime": {
     "end_time": "2021-02-16T20:58:50.847843Z",
     "start_time": "2021-02-16T20:58:50.745724Z"
    }
   },
   "outputs": [],
   "source": [
    "#MODEL REPRODUCTIBILITY\n",
    "np.random.seed(SEED)"
   ]
  },
  {
   "cell_type": "code",
   "execution_count": 16,
   "id": "favorite-poverty",
   "metadata": {
    "ExecuteTime": {
     "end_time": "2021-02-16T20:58:51.185513Z",
     "start_time": "2021-02-16T20:58:50.851196Z"
    }
   },
   "outputs": [],
   "source": [
    "#GETTING FEATURES AND LABELS\n",
    "X = df_train_.drop('category', axis=1)\n",
    "y = df_train_['category']\n",
    "\n",
    "#SPLIT DATA\n",
    "X_train, X_test, y_train, y_test = train_test_split(X, y, test_size=0.2, random_state=SEED)\n",
    "\n",
    "#BAG OF WORDS FOR TRAINIG DATA\n",
    "cv_train = CountVectorizer(lowercase=False)\n",
    "X_train_counts = cv_train.fit_transform(X_train.title, X_train.query_tags)\n",
    "\n",
    "#BAG OF WORDS FOR TEST DATA\n",
    "cv_test = CountVectorizer(vocabulary=cv_train.get_feature_names())\n",
    "X_test_counts = cv_test.fit_transform(X_test.title, X_test.query_tags)\n",
    "\n",
    "#TF-IDF FOR TRAINING AND TEST DATA\n",
    "tfidf_transformer = TfidfTransformer()\n",
    "X_train_tfidf = tfidf_transformer.fit_transform(X_train_counts)\n",
    "X_test_tfidf = tfidf_transformer.transform(X_test_counts)\n",
    "\n",
    "#LABEL ENCODER\n",
    "le = LabelEncoder()\n",
    "y_train_enc = le.fit_transform(y_train)\n",
    "y_test_enc = le.transform(y_test)"
   ]
  },
  {
   "cell_type": "markdown",
   "id": "detailed-prisoner",
   "metadata": {},
   "source": [
    "## 3.2 Modelagem\n",
    "\n",
    "* Bag of Words\n",
    "* TF-IDF\n",
    "\n",
    "Specifies a model to handle the categorization problem"
   ]
  },
  {
   "cell_type": "code",
   "execution_count": 17,
   "id": "theoretical-somalia",
   "metadata": {
    "ExecuteTime": {
     "end_time": "2021-02-16T20:58:51.929767Z",
     "start_time": "2021-02-16T20:58:51.186712Z"
    }
   },
   "outputs": [],
   "source": [
    "from sklearn.naive_bayes import MultinomialNB\n",
    "from sklearn.linear_model import LogisticRegression\n",
    "from sklearn.tree import DecisionTreeClassifier\n",
    "from sklearn.ensemble import RandomForestClassifier\n",
    "from sklearn.neighbors import KNeighborsClassifier\n",
    "from xgboost import XGBClassifier\n",
    "from lightgbm import LGBMClassifier\n",
    "\n",
    "from sklearn.model_selection import KFold, StratifiedKFold\n",
    "\n",
    "from sklearn.metrics import recall_score, accuracy_score, precision_score\n",
    "from sklearn.metrics import f1_score, confusion_matrix, plot_roc_curve, roc_curve, auc\n",
    "\n",
    "from sklearn.model_selection import RandomizedSearchCV"
   ]
  },
  {
   "cell_type": "code",
   "execution_count": 18,
   "id": "qualified-singer",
   "metadata": {
    "ExecuteTime": {
     "end_time": "2021-02-16T20:58:51.936371Z",
     "start_time": "2021-02-16T20:58:51.931504Z"
    }
   },
   "outputs": [],
   "source": [
    "clf = [\n",
    "    ('Multinomial Naive Bayes', MultinomialNB()),\n",
    "    ('Logistic Regression', LogisticRegression(random_state=SEED)),\n",
    "    ('Decision Tree', DecisionTreeClassifier(random_state=SEED)),\n",
    "    ('Random Forest', RandomForestClassifier(random_state=SEED,n_estimators=50, n_jobs=-1)),\n",
    "    ('K-Nearest Neightbors', KNeighborsClassifier()),\n",
    "    \n",
    "    ('XGBoost Classifier', XGBClassifier(random_state=SEED,\n",
    "                                         use_label_encoder=False, \n",
    "                                         eval_metric='logloss',\n",
    "                                         predictor='gpu_predictor')),\n",
    "    \n",
    "    ('LightGBM', LGBMClassifier(random_state=SEED, objective='multiclass'))\n",
    "]"
   ]
  },
  {
   "cell_type": "code",
   "execution_count": 19,
   "id": "located-ceremony",
   "metadata": {
    "ExecuteTime": {
     "end_time": "2021-02-16T20:58:52.068532Z",
     "start_time": "2021-02-16T20:58:51.938237Z"
    }
   },
   "outputs": [],
   "source": [
    "cv = KFold(n_splits=10, shuffle=False)\n",
    "\n",
    "def train_models(classifiers, X, y, cv=cv):\n",
    "    \n",
    "    models_dict = {}\n",
    "    for clf in classifiers:\n",
    "\n",
    "        print(f\"Treinando o classificador {clf[0]}...\", end=\"\")\n",
    "        \n",
    "        accu = []\n",
    "        recall = []\n",
    "        f1_ = []\n",
    "        precision = []\n",
    "        fit_time_list = []\n",
    "        pred_time_list = []\n",
    "        for train_idx, test_idx in cv.split(X, y):\n",
    "\n",
    "            X_train = X[train_idx].astype('float32')\n",
    "            X_test = X[test_idx].astype('float32')\n",
    "            y_train = y[train_idx]\n",
    "            y_test = y[test_idx]\n",
    "            \n",
    "            start_fit = time.time()\n",
    "            clf[1].fit(X_train, y_train)\n",
    "            fit_time = time.time() - start_fit\n",
    "            \n",
    "            start_pred = time.time()\n",
    "            pred = clf[1].predict(X_test)\n",
    "            pred_time = time.time() - start_pred\n",
    "            \n",
    "            accu.append(accuracy_score(y_test, pred))\n",
    "            recall.append(recall_score(y_test, pred, average='macro'))\n",
    "            f1_.append(f1_score(y_test, pred, average='macro'))\n",
    "            precision.append(precision_score(y_test, pred, average='macro'))\n",
    "            fit_time_list.append(fit_time)\n",
    "            pred_time_list.append(pred_time)\n",
    "\n",
    "        models_dict[clf[0]] = {'model':clf[1],\n",
    "                               'accuracy': np.mean(accu),\n",
    "                               'recall': np.mean(recall),\n",
    "                               'precision': np.mean(precision), \n",
    "                               'f1-score': np.mean(f1_), \n",
    "                               'fit_time': np.mean(fit_time_list), \n",
    "                               'pred_time': np.mean(pred_time_list)}\n",
    "\n",
    "        print(f\"ok. Tempo de treino: {np.sum(fit_time_list)} segundos\\n\")\n",
    "\n",
    "        print(f\"Resultados do classificador {clf[0]}:\\n\")\n",
    "        print(f\"Accuracy: {models_dict[clf[0]]['accuracy']}\")\n",
    "        print(f\"Recall: {models_dict[clf[0]]['recall']}\")\n",
    "        print(f\"Precision Score: {models_dict[clf[0]]['precision']}\")\n",
    "        print(f\"F1 Score: {models_dict[clf[0]]['f1-score']}\")\n",
    "        print(f\"Time to fit: {models_dict[clf[0]]['fit_time']}\")\n",
    "        print(f\"Time to predict: {models_dict[clf[0]]['pred_time']}\")\n",
    "        print('-'*50)\n",
    "    \n",
    "    return models_dict"
   ]
  },
  {
   "cell_type": "markdown",
   "id": "minute-gathering",
   "metadata": {},
   "source": [
    "### 3.2.1 Treinando modelos com texto featurizados via Bag of Words"
   ]
  },
  {
   "cell_type": "code",
   "execution_count": 20,
   "id": "intermediate-croatia",
   "metadata": {
    "ExecuteTime": {
     "end_time": "2021-02-16T21:00:59.334344Z",
     "start_time": "2021-02-16T20:58:52.069709Z"
    }
   },
   "outputs": [
    {
     "name": "stdout",
     "output_type": "stream",
     "text": [
      "Treinando o classificador Multinomial Naive Bayes...ok. Tempo de treino: 0.07517743110656738 segundos\n",
      "\n",
      "Resultados do classificador Multinomial Naive Bayes:\n",
      "\n",
      "Accuracy: 0.8529257585525045\n",
      "Recall: 0.7565495916309487\n",
      "Precision Score: 0.8453446242653697\n",
      "F1 Score: 0.7911695387053574\n",
      "Time to fit: 0.0075177431106567385\n",
      "Time to predict: 0.0004287242889404297\n",
      "--------------------------------------------------\n",
      "Treinando o classificador Logistic Regression...ok. Tempo de treino: 21.18723177909851 segundos\n",
      "\n",
      "Resultados do classificador Logistic Regression:\n",
      "\n",
      "Accuracy: 0.8735831634878982\n",
      "Recall: 0.7918536564375167\n",
      "Precision Score: 0.8716563868053726\n",
      "F1 Score: 0.824185205978818\n",
      "Time to fit: 2.118723177909851\n",
      "Time to predict: 0.0005312919616699219\n",
      "--------------------------------------------------\n",
      "Treinando o classificador Decision Tree...ok. Tempo de treino: 10.317651748657227 segundos\n",
      "\n",
      "Resultados do classificador Decision Tree:\n",
      "\n",
      "Accuracy: 0.8697944273332856\n",
      "Recall: 0.8145350745982689\n",
      "Precision Score: 0.8506482287607007\n",
      "F1 Score: 0.8304914494090928\n",
      "Time to fit: 1.0317651748657226\n",
      "Time to predict: 0.001207113265991211\n",
      "--------------------------------------------------\n",
      "Treinando o classificador Random Forest...ok. Tempo de treino: 41.510557413101196 segundos\n",
      "\n",
      "Resultados do classificador Random Forest:\n",
      "\n",
      "Accuracy: 0.8860700588001642\n",
      "Recall: 0.8168156415621292\n",
      "Precision Score: 0.8867591486563547\n",
      "F1 Score: 0.8459528422894833\n",
      "Time to fit: 4.1510557413101195\n",
      "Time to predict: 0.022475314140319825\n",
      "--------------------------------------------------\n",
      "Treinando o classificador K-Nearest Neightbors...ok. Tempo de treino: 0.013553619384765625 segundos\n",
      "\n",
      "Resultados do classificador K-Nearest Neightbors:\n",
      "\n",
      "Accuracy: 0.8416582449377378\n",
      "Recall: 0.7311005162153138\n",
      "Precision Score: 0.8401094213252088\n",
      "F1 Score: 0.7683252325607148\n",
      "Time to fit: 0.0013553619384765625\n",
      "Time to predict: 1.2778440952301025\n",
      "--------------------------------------------------\n",
      "Treinando o classificador XGBoost Classifier...ok. Tempo de treino: 29.291572093963623 segundos\n",
      "\n",
      "Resultados do classificador XGBoost Classifier:\n",
      "\n",
      "Accuracy: 0.8518056360467362\n",
      "Recall: 0.7537991860844457\n",
      "Precision Score: 0.866392587179402\n",
      "F1 Score: 0.7961338894662993\n",
      "Time to fit: 2.9291572093963625\n",
      "Time to predict: 0.10968227386474609\n",
      "--------------------------------------------------\n",
      "Treinando o classificador LightGBM...ok. Tempo de treino: 9.848845481872559 segundos\n",
      "\n",
      "Resultados do classificador LightGBM:\n",
      "\n",
      "Accuracy: 0.8515089654513766\n",
      "Recall: 0.7581565448090958\n",
      "Precision Score: 0.8365327984139064\n",
      "F1 Score: 0.7896897629535903\n",
      "Time to fit: 0.9848845481872559\n",
      "Time to predict: 0.03459033966064453\n",
      "--------------------------------------------------\n"
     ]
    }
   ],
   "source": [
    "models_dict_counts = train_models(classifiers=clf, X=X_train_counts, y=y_train_enc, cv=cv)"
   ]
  },
  {
   "cell_type": "markdown",
   "id": "veterinary-dutch",
   "metadata": {},
   "source": [
    "### 3.2.2 Treinando modelos com texto featurizados via TF-IDF"
   ]
  },
  {
   "cell_type": "code",
   "execution_count": 21,
   "id": "sound-still",
   "metadata": {
    "ExecuteTime": {
     "end_time": "2021-02-16T21:03:55.173133Z",
     "start_time": "2021-02-16T21:00:59.343257Z"
    }
   },
   "outputs": [
    {
     "name": "stdout",
     "output_type": "stream",
     "text": [
      "Treinando o classificador Multinomial Naive Bayes...ok. Tempo de treino: 0.05191397666931152 segundos\n",
      "\n",
      "Resultados do classificador Multinomial Naive Bayes:\n",
      "\n",
      "Accuracy: 0.8352335510393673\n",
      "Recall: 0.6420620034999472\n",
      "Precision Score: 0.9012604463322337\n",
      "F1 Score: 0.6986332309176817\n",
      "Time to fit: 0.005191397666931152\n",
      "Time to predict: 0.0003300189971923828\n",
      "--------------------------------------------------\n",
      "Treinando o classificador Logistic Regression...ok. Tempo de treino: 23.632505893707275 segundos\n",
      "\n",
      "Resultados do classificador Logistic Regression:\n",
      "\n",
      "Accuracy: 0.8669610690386422\n",
      "Recall: 0.7585284461717697\n",
      "Precision Score: 0.8762214341282248\n",
      "F1 Score: 0.8018041932069879\n",
      "Time to fit: 2.3632505893707276\n",
      "Time to predict: 0.000884389877319336\n",
      "--------------------------------------------------\n",
      "Treinando o classificador Decision Tree...ok. Tempo de treino: 14.355185747146606 segundos\n",
      "\n",
      "Resultados do classificador Decision Tree:\n",
      "\n",
      "Accuracy: 0.8726278724498766\n",
      "Recall: 0.8172775219571218\n",
      "Precision Score: 0.8490968781983426\n",
      "F1 Score: 0.8312636082983402\n",
      "Time to fit: 1.4355185747146606\n",
      "Time to predict: 0.001225590705871582\n",
      "--------------------------------------------------\n",
      "Treinando o classificador Random Forest...ok. Tempo de treino: 37.6907639503479 segundos\n",
      "\n",
      "Resultados do classificador Random Forest:\n",
      "\n",
      "Accuracy: 0.8908146286299715\n",
      "Recall: 0.8206146737634379\n",
      "Precision Score: 0.892295526904768\n",
      "F1 Score: 0.8497192500868358\n",
      "Time to fit: 3.76907639503479\n",
      "Time to predict: 0.022421908378601075\n",
      "--------------------------------------------------\n",
      "Treinando o classificador K-Nearest Neightbors...ok. Tempo de treino: 0.01544952392578125 segundos\n",
      "\n",
      "Resultados do classificador K-Nearest Neightbors:\n",
      "\n",
      "Accuracy: 0.8372100960901907\n",
      "Recall: 0.7364609383679076\n",
      "Precision Score: 0.8288021506989331\n",
      "F1 Score: 0.7710590499739706\n",
      "Time to fit: 0.001544952392578125\n",
      "Time to predict: 1.0285247087478637\n",
      "--------------------------------------------------\n",
      "Treinando o classificador XGBoost Classifier...ok. Tempo de treino: 61.16102862358093 segundos\n",
      "\n",
      "Resultados do classificador XGBoost Classifier:\n",
      "\n",
      "Accuracy: 0.8533212108188829\n",
      "Recall: 0.7539860615561603\n",
      "Precision Score: 0.8736146561208302\n",
      "F1 Score: 0.7987024325865688\n",
      "Time to fit: 6.116102862358093\n",
      "Time to predict: 0.10864107608795166\n",
      "--------------------------------------------------\n",
      "Treinando o classificador LightGBM...ok. Tempo de treino: 26.42376446723938 segundos\n",
      "\n",
      "Resultados do classificador LightGBM:\n",
      "\n",
      "Accuracy: 0.854737982214524\n",
      "Recall: 0.7599181319768394\n",
      "Precision Score: 0.844946696720317\n",
      "F1 Score: 0.793558601241202\n",
      "Time to fit: 2.642376446723938\n",
      "Time to predict: 0.03620412349700928\n",
      "--------------------------------------------------\n"
     ]
    }
   ],
   "source": [
    "models_dict_tfidf = train_models(classifiers=clf, X=X_train_tfidf, y=y_train_enc, cv=cv)"
   ]
  },
  {
   "cell_type": "markdown",
   "id": "human-snapshot",
   "metadata": {},
   "source": [
    "### 3.2.3 Escolha\n",
    "\n",
    "* RF/TF-IDF\n",
    "* Tempo de treino irrelevante\n",
    "* F1-Score ~ 85%\n",
    "* Tempo de predição ~ 20ms"
   ]
  },
  {
   "cell_type": "markdown",
   "id": "horizontal-newman",
   "metadata": {},
   "source": [
    "## 3.3 Validação do Modelo\n",
    "\n",
    "Generates metrics about the model accuracy (precision, recall, F1, etc.) for **each category** and exports them to a specified path available in the environment variable METRICS_PATH"
   ]
  },
  {
   "cell_type": "code",
   "execution_count": 31,
   "id": "neural-score",
   "metadata": {
    "ExecuteTime": {
     "end_time": "2021-02-16T21:48:24.801347Z",
     "start_time": "2021-02-16T21:48:24.788314Z"
    }
   },
   "outputs": [],
   "source": [
    "def train_single_model(X_train, \n",
    "                       y_train, \n",
    "                       X_test, \n",
    "                       y_test, \n",
    "                       model=models_dict_tfidf['Random Forest']['model']):\n",
    "    \n",
    "    #train model\n",
    "    print(\"Treinando o modelo escolhido...\", end=\"\")\n",
    "    start_fit = time.time()\n",
    "    model.fit(X_train, y_train)\n",
    "    fit_time = time.time() - start_fit\n",
    "    print(f\"ok. Treinado em {fit_time} segundos\\n\")\n",
    "\n",
    "    #predict on hold-out sample\n",
    "    start_pred = time.time()\n",
    "    pred = model.predict(X_test)\n",
    "    pred_time = time.time() - start_pred\n",
    "    \n",
    "    print(\"Resultados:\")\n",
    "    print(f\"Accuracy: {accuracy_score(y_test, pred)}\")\n",
    "    print(f\"Recall: {recall_score(y_test, pred, average='macro')}\")\n",
    "    print(f\"Precision: {precision_score(y_test, pred, average='macro')}\")\n",
    "    print(f\"F1 Score: {f1_score(y_test, pred, average='macro')}\")\n",
    "    print(f\"Time to Fit: {fit_time}\")\n",
    "    print(f\"Time to Predict: {pred_time}\")\n",
    "\n",
    "    chosen_model_dict = {\n",
    "        'accuracy':accuracy_score(y_test, pred),\n",
    "        'recall':recall_score(y_test, pred, average='macro'),\n",
    "        'precision':precision_score(y_test, pred, average='macro'),\n",
    "        'f1-score':f1_score(y_test, pred, average='macro'), \n",
    "        'fit_time':fit_time, 'pred_time':pred_time    \n",
    "    }\n",
    "    \n",
    "    return model, chosen_model_dict"
   ]
  },
  {
   "cell_type": "code",
   "execution_count": 32,
   "id": "jewish-scroll",
   "metadata": {
    "ExecuteTime": {
     "end_time": "2021-02-16T21:48:28.086177Z",
     "start_time": "2021-02-16T21:48:25.559231Z"
    }
   },
   "outputs": [
    {
     "name": "stdout",
     "output_type": "stream",
     "text": [
      "Treinando o modelo escolhido...ok. Treinado em 2.467167615890503 segundos\n",
      "\n",
      "Resultados:\n",
      "Accuracy: 0.8945703742751713\n",
      "Recall: 0.8264786695531995\n",
      "Precision: 0.8926971901432076\n",
      "F1 Score: 0.8547817590170209\n",
      "Time to Fit: 2.467167615890503\n",
      "Time to Predict: 0.03974485397338867\n"
     ]
    }
   ],
   "source": [
    "chosen_model_dict = {}\n",
    "fitted_model, chosen_model_dict['RF/TFIDF'] = train_single_model(X_train_tfidf, y_train_enc, X_test_tfidf, y_test_enc)"
   ]
  },
  {
   "cell_type": "code",
   "execution_count": 29,
   "id": "received-spanking",
   "metadata": {
    "ExecuteTime": {
     "end_time": "2021-02-16T21:29:34.559270Z",
     "start_time": "2021-02-16T21:29:34.556802Z"
    }
   },
   "outputs": [],
   "source": [
    "#TODO\n",
    "#EXPORTAR AS METRICAS PARA O ARQUIVO DE TEXTO"
   ]
  },
  {
   "cell_type": "markdown",
   "id": "higher-progress",
   "metadata": {},
   "source": [
    "## 3.4 Persistindo o Modelo\n",
    "\n",
    "Exports a candidate model to a specified path available in the environment variable MODEL_PATH"
   ]
  },
  {
   "cell_type": "code",
   "execution_count": 33,
   "id": "laden-strike",
   "metadata": {
    "ExecuteTime": {
     "end_time": "2021-02-16T21:51:52.479740Z",
     "start_time": "2021-02-16T21:51:52.476993Z"
    }
   },
   "outputs": [],
   "source": [
    "files_to_persist = {\n",
    "    'Count Vectorizer':cv_train,\n",
    "    'TF-IDF':tfidf_transformer,\n",
    "    'Label Encoder':le,\n",
    "    #'Scaler':scaler,\n",
    "    'Model':fitted_model,\n",
    "    'Model Metrics':chosen_model_dict['RF/TFIDF']\n",
    "}"
   ]
  },
  {
   "cell_type": "code",
   "execution_count": null,
   "id": "collect-sunglasses",
   "metadata": {},
   "outputs": [],
   "source": [
    "#TODO\n",
    "#with open(MODEL_PATH, \"wb\") as f:\n",
    "#    pickle.dump(files_to_persist, f)"
   ]
  },
  {
   "cell_type": "markdown",
   "id": "manufactured-reflection",
   "metadata": {},
   "source": [
    "# 4. Conclusão"
   ]
  },
  {
   "cell_type": "code",
   "execution_count": null,
   "id": "level-sapphire",
   "metadata": {},
   "outputs": [],
   "source": []
  }
 ],
 "metadata": {
  "hide_input": false,
  "kernelspec": {
   "display_name": "Python 3",
   "language": "python",
   "name": "python3"
  },
  "language_info": {
   "codemirror_mode": {
    "name": "ipython",
    "version": 3
   },
   "file_extension": ".py",
   "mimetype": "text/x-python",
   "name": "python",
   "nbconvert_exporter": "python",
   "pygments_lexer": "ipython3",
   "version": "3.8.5"
  }
 },
 "nbformat": 4,
 "nbformat_minor": 5
}
